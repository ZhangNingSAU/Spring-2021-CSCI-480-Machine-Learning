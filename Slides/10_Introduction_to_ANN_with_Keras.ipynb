{
 "cells": [
  {
   "cell_type": "markdown",
   "id": "527fd7a8",
   "metadata": {},
   "source": [
    "# CSCI 480\n",
    "# Chapter 10: Introduction to Artificial Neural Networks with Keras\n",
    "\n",
    "+ ANNs are at the very core of Deep Learning.\n",
    "+ ideal to tackle large and highly complex Machine Learning tasks\n",
    "    - classifying billions of images (e.g., Google Images)\n",
    "    - powering speech recogni‐ tion services (e.g., Apple’s Siri)\n",
    "    - recommending the best videos to watch to hundreds of millions of users every day (e.g., YouTube)\n",
    "    - learning to beat the world champion at the game of Go by playing millions of games against itself (DeepMind’s Alpha‐ Zero)"
   ]
  },
  {
   "cell_type": "markdown",
   "id": "9c62a42f",
   "metadata": {},
   "source": [
    "## From Biological to Artificial Neurons\n",
    "+ In 1943, in their paper [A Logical Calculus of Ideas Immanent in Nervous Activity](https://www.cs.cmu.edu/~./epxing/Class/10715/reading/McCulloch.and.Pitts.pdf), the neurophysiologist Warren McCulloch and the mathematician Walter Pitts presented a simplified computational model of how biological neurons might work together in animal brains to perform complex computations using propositional logic.\n",
    "+ ANN waves\n",
    "\n",
    "![ANN waves](https://www.researchgate.net/profile/David-Macedo-4/publication/330838896/figure/fig1/AS:722098146246656@1549173022089/The-three-historical-waves-of-artificial-neural-networks-research-GOODFELLOW-BENGIO.png)\n",
    "\n",
    "+ Why ANN came back agian and will last long?\n",
    "    - There is now a huge quantity of data available to train neural networks, and ANNs frequently outperform other ML techniques on very large and complex problems.\n",
    "    - The tremendous increase in computing power since the 1990s now makes it pos‐ sible to train large neural networks in a reasonable amount of time. This is in part due to Moore’s Law, but also thanks to the gaming industry, which has pro‐ duced powerful GPU cards by the millions.\n",
    "    - The training algorithms have been improved. To be fair they are only slightly dif‐ ferent from the ones used in the 1990s, but these relatively small tweaks have a huge positive impact.\n",
    "    - Some theoretical limitations of ANNs have turned out to be benign in practice. For example, many people thought that ANN training algorithms were doomed because they were likely to get stuck in local optima, but it turns out that this is rather rare in practice (or when it is the case, they are usually fairly close to the global optimum).\n",
    "    - ANNs seem to have entered a virtuous circle of funding and progress. "
   ]
  },
  {
   "cell_type": "markdown",
   "id": "8cef4e87",
   "metadata": {},
   "source": [
    "## Biological Neurons\n",
    "![Biological Neurons](https://upload.wikimedia.org/wikipedia/commons/1/10/Blausen_0657_MultipolarNeuron.png)\n",
    "\n",
    "## Biological Neuron Network\n",
    "![](https://upload.wikimedia.org/wikipedia/commons/thumb/1/1a/Cajal_actx_inter.jpg/300px-Cajal_actx_inter.jpg)"
   ]
  },
  {
   "cell_type": "markdown",
   "id": "f5df170e",
   "metadata": {},
   "source": [
    "## Logical Computations with Neurons\n",
    "+ artificial neuron: a very simple model of the biological neuron\n",
    "    - C = A\n",
    "    - C = A and B\n",
    "    - C = A or B\n",
    "    - C = not B (if A is active all the time) \n",
    "\n",
    "![Logical Computations with Neurons](https://www.oreilly.com/library/view/neural-networks-and/9781492037354/assets/mlst_1003.png)\n",
    "\n"
   ]
  },
  {
   "cell_type": "markdown",
   "id": "cfaf16f8",
   "metadata": {},
   "source": [
    "## The Perceptron (Single-layer Perceptron)\n",
    "+ based on `threshold logic unit (TLU)`\n",
    "\n",
    "![](../Resources/ch10-perceptron.png)\n",
    "\n",
    "+ The TLU computes a weighted sum of its inputs\n",
    "    \n",
    "    $$z = w_1 x_1 + w_2 x_2 + \\ldots + w_n x_n = x^T w$$\n",
    "    \n",
    "+ then applies a step function to that sum and outputs the result: \n",
    "    \n",
    "    $$\n",
    "    h_w(x) = step(z), where z = x^T w.\n",
    "    $$\n",
    "    \n",
    "    - Step function\n",
    "   $$ heaviside(z)=   \\left\\{\n",
    "\\begin{array}{ll}\n",
    "      0 &  if \\space z \\lt 0 \\\\\n",
    "      1 &  if \\space z \\ge 0 \\\\\n",
    "\\end{array} \n",
    "\\right.  $$\n",
    "\n",
    "    - or\n",
    "\n",
    "   $$ sgn(z)=   \\left\\{\n",
    "\\begin{array}{ll}\n",
    "      -1 &  if \\space z \\lt 0 \\\\\n",
    "      0 &  if \\space z = 0 \\\\\n",
    "      1 &  if \\space z \\gt 0 \\\\\n",
    "\\end{array} \n",
    "\\right.  $$\n",
    "\n",
    "+ A Perceptron is simply composed of a single layer of TLUs, with each TLU connected to all the inputs.\n",
    "    - When all the neurons in a layer are connected to every neuron in the previous layer (i.e., its input neurons), it is called a fully connected layer or a dense layer. \n",
    "\n",
    "    ![](../Resources/ch10-perceptron2.png)\n",
    "\n",
    "    - compute the outputs of a layer of artificial neurons for several instances at once\n",
    "        + X represents the matrix of input features. It has one row per instance, one column per feature.\n",
    "        + The weight matrix W contains all the connection weights except for the ones from the bias neuron.\n",
    "        + The bias vector b contains all the connection weights between the bias neuron and the artificial neurons.\n",
    "        + The function φ is called the activation function. when the artificial neurons are TLUs, it is a step function.\n",
    "    $$h_{W,b} = \\phi(XW+b)$$\n",
    "    \n",
    "+ Perceptron learning rule: Hebb’s rule\n",
    "    - the connection weight between two neurons is increased whenever they have the same output. \n",
    "    $$w_{i,j}^{(next step)} = w_{i,j} + \\eta (y_j - \\hat{y}_j)x_i$$\n",
    "    \n",
    "       + $w_{i,j}$ is the connection weight between the $i^{th}$ input neuron and the $j^{th}$ output neuron.\n",
    "       + $x_i$ is the $i^{th}$ input value of the current training instance.\n",
    "       + $\\hat{y}_j$ is the output of the $j^{th}$ output neuron for the current training instance.\n",
    "       + $y_j$ is the target output of the $j^{th}$ output neuron for the current training instance.\n",
    "       + $\\eta$ is the learning rate.\n",
    "  \n",
    "+ Note: Perceptron is incaple of learning complex patterns (e.g., the data can not be separated by linear boundaries). "
   ]
  },
  {
   "cell_type": "code",
   "execution_count": 1,
   "id": "6ac09b5e",
   "metadata": {},
   "outputs": [],
   "source": [
    "import numpy as np\n",
    "from sklearn.datasets import load_iris\n",
    "from sklearn.linear_model import Perceptron"
   ]
  },
  {
   "cell_type": "code",
   "execution_count": 3,
   "id": "e26a5d02",
   "metadata": {},
   "outputs": [],
   "source": [
    "iris = load_iris()\n",
    "X = iris.data[:, (2, 3)] # petal length, petal width\n",
    "y = (iris.target == 0).astype(np.int32) # Iris Setosa?"
   ]
  },
  {
   "cell_type": "code",
   "execution_count": 4,
   "id": "2208b9c8",
   "metadata": {},
   "outputs": [
    {
     "data": {
      "text/plain": [
       "Perceptron()"
      ]
     },
     "execution_count": 4,
     "metadata": {},
     "output_type": "execute_result"
    }
   ],
   "source": [
    "per_clf = Perceptron()\n",
    "per_clf.fit(X, y)"
   ]
  },
  {
   "cell_type": "code",
   "execution_count": 5,
   "id": "bfd784de",
   "metadata": {},
   "outputs": [],
   "source": [
    "y_pred = per_clf.predict([[2, 0.5]])"
   ]
  },
  {
   "cell_type": "markdown",
   "id": "ddfff4d1",
   "metadata": {},
   "source": [
    "### Perceptron vs Stochastic Gradient Descent\n",
    "+ Perceptron learning algorithm strongly resembles Stochastic Gradient Descent.\n",
    "+ In fact, Scikit-Learn’s Perceptron class is equivalent to using an SGDClassifier with the following hyperparameters: loss=\"perceptron\", learning_rate=\"constant\", eta0=1 (the learning rate), and penalty=None (no regu‐ larization).\n",
    "### Perceptron vs Logistic Regression\n",
    "+ Perceptrons do not output a class probability.\n",
    "+ This is one of the good reasons to prefer Logistic Regression over Perceptrons.\n",
    "### Weaknesses of Perceptrons\n",
    "+ incapable of solving some trivial problems (e.g., the Exclusive OR (XOR) classification problem\n",
    "\n",
    "![OR VS XOR](https://res.cloudinary.com/practicaldev/image/fetch/s--NK5uRtLC--/c_imagga_scale,f_auto,fl_progressive,h_900,q_auto,w_1600/https://dev-to-uploads.s3.amazonaws.com/i/lkli02223oqhlac1jetz.png)\n",
    "\n",
    "![xor](https://i1.wp.com/www.tech-quantum.com/wp-content/uploads/2019/03/XOR-Problem.png?fit=800%2C451&ssl=1)"
   ]
  },
  {
   "cell_type": "markdown",
   "id": "a0f754b5",
   "metadata": {},
   "source": [
    "## Multi-Layer Perceptron and Backpropagation\n",
    "+ An MLP is composed of one (passthrough) input layer, one or more layers of TLUs, called hidden layers, and one final layer of TLUs called the output layer.\n",
    "\n",
    "![](../Resources/ch10-mlp.png)\n",
    "\n",
    "+ When an ANN contains a deep stack of hidden layers8, it is called a deep neural net‐ work (DNN).\n",
    "\n",
    "### Backpropagation: a way to train MLPs\n",
    "+ simply Gradient Descent using an efficient technique for computing the gradients automatically in just two passes through the network (one forward, one backward)\n",
    "+ the backpropagation algo‐ rithm is able to compute the gradient of the network’s error with regards to every sin‐ gle model parameter.\n",
    "+ In other words, it can find out how each connection weight and each bias term should be tweaked in order to reduce the error.\n",
    "\n",
    "+ `Backpropagation Algorithm`\n",
    "    - It handles one `mini-batch` at a time, and it goes through the full training set multiple times. Each pass is called an epoch.\n",
    "    - `forward pass`: mini-batch -> input layer -> hidden layer(s) -> output layer. it is exactly like making predictions, except all intermediate results are preserved since they are needed for the backward pass.\n",
    "    - Next, the algorithm measures the network’s output error (compare the output with the target: $y$ vs $\\hat{y}$)\n",
    "    - Then it computes how much each output connection contributed to the error analytically by simply applying the [`chain rule`](https://en.wikipedia.org/wiki/Chain_rule).\n",
    "    - `backward pass`: The algorithm then measures how much of these error contributions came from each connection in the layer below, again using the chain rule, by propagating the error gradient backward through the network.\n",
    "    - Finally, the algorithm performs a Gradient Descent step to tweak all the connec‐ tion weights in the network, using the error gradients it just computed.\n",
    "\n",
    "+ Summary\n",
    "\n",
    "`This algorithm is so important, it’s worth summarizing it again: for each training instance the backpropagation algorithm first makes a prediction (forward pass), measures the error, then goes through each layer in reverse to measure the error con‐ tribution from each connection (reverse pass), and finally slightly tweaks the connec‐ tion weights to reduce the error (Gradient Descent step).`"
   ]
  },
  {
   "cell_type": "markdown",
   "id": "6a88843a",
   "metadata": {},
   "source": [
    "### Activation functions for MLPs with Backpropagation\n",
    "+ replace step function with\n",
    "   - logistic function\n",
    "   $$\n",
    "   \\sigma(z) = \\dfrac{1}{1+exp(-z)}\n",
    "   $$\n",
    "   - hyperbolic tangent function \n",
    "   $$\n",
    "       tanh(z) = 2\\sigma(2z)-1\n",
    "   $$\n",
    "   - Rectified Linear Unit function(ReLU is one of the most commonly used activation function in deep learning):\n",
    "   $$\n",
    "   ReLU(z) = max(0, z)\n",
    "   $$\n",
    "   \n",
    " \n",
    "![activation functions and their derivatives](https://www.oreilly.com/library/view/neural-networks-and/9781492037354/assets/mlst_1008.png)"
   ]
  },
  {
   "cell_type": "markdown",
   "id": "988f6e99",
   "metadata": {},
   "source": [
    "## Regression MLPs\n",
    "+ If you want to predict a single value, you just need a single output neuron.\n",
    "+ For multivariate regression, you need one output neuron per output dimension.\n",
    "+ In general, when building an MLP for regression, you do not want to use any activa‐ tion function for the output neurons, so they are free to output any range of values.\n",
    "+ However, if you want to guarantee that the output will always be positive, then you can use the ReLU activation function, or the softplus activation function in the output layer.\n",
    "+ Finally, if you want to guarantee that the predictions will fall within a given range of values, then you can use the logistic function or the hyperbolic tangent, and scale the labels to the appropriate range: 0 to 1 for the logistic function, or –1 to 1 for the hyperbolic tangent.\n",
    "+ The loss function to use during training is typically the `mean squared error`, but if you have a lot of outliers in the training set, you may prefer to use the `mean absolute error` instead. Alternatively, you can use the `Huber loss`, which is a combination of both.\n",
    "+ Typical Regression MLP Architecture\n",
    "\n",
    "|Hyperparameter|Typical Value|\n",
    "|---|---|\n",
    "|# input neurons|One per input feature (e.g., 28 x 28 = 784 for MNIST)|\n",
    "|# hidden layers|Depends on the problem. Typically 1 to 5.|\n",
    "|# neurons per hidden layer|Depends on the problem. Typically 10 to 100.|\n",
    "|# output neurons|1 per prediction dimension|\n",
    "|Hidden activation|ReLU (or SELU, see Chapter 11)|\n",
    "|Output activation|None or ReLU/Softplus (if positive outputs) or Logistic/Tanh (if bounded outputs)|\n",
    "|Loss function|MSE or MAE/Huber (if outliers)|"
   ]
  },
  {
   "cell_type": "markdown",
   "id": "b1851af2",
   "metadata": {},
   "source": [
    "## Classification MLPs\n",
    "+ For a binary classification problem, you just need a single output neuron using the logistic activation function.\n",
    "+ MLPs can also easily handle multilabel binary classification tasks. In this case, you would need multiple output neurons, both using the logistic activation function.\n",
    "+ For a multiclass classification problem, you need to have one output neuron per class, and you should use the softmax activation function for the whole output layer.\n",
    "\n",
    "![](../Resources/ch10-multiclass.png)\n",
    "\n",
    "+ Typical Classification MLP Architecture\n",
    "\n",
    "|Hyperparameter|Binary classification|Multilabel binary classification|Multiclass classification|\n",
    "|---|---|---|---|\n",
    "|Input and hidden layers|Same as regression|Same as regression|Same as regression|\n",
    "|# output neurons|1|1 per label|1 per class|\n",
    "|Output layer activation|logistic|logistic|softmax|\n",
    "|loss function|Cross-Entropy|Cross-Entropy|Cross-Entropy|"
   ]
  },
  {
   "cell_type": "markdown",
   "id": "669ce33a",
   "metadata": {},
   "source": [
    "## Implementing MLPs with Keras\n",
    "+ [Keras](https://keras.io) is a high-level Deep Learning API that allows you to easily build, train, evaluate and execute all sorts of neural networks.\n",
    "+ Two Keras implementations: Keras-team and tf.keras(keras in Tensorflow, we will use tf.keras in our class)\n",
    "\n",
    "![](https://encrypted-tbn0.gstatic.com/images?q=tbn:ANd9GcQYKhfHmW84jKHAm10LlWV5pmtSTMuh91dUs2wIGS--8LEYf20576nbN0YZM5OyfK2kV68&usqp=CAU)\n",
    "\n",
    "### Installing TensorFlow 2\n",
    "~~~~\n",
    "python3 -m pip install --upgrade tensorflow\n",
    "~~~~\n",
    "For GPU support, you need to install `tensorflow-gpu` instead of `tensorflow`, and there are other libraries to install. See https://tensorflow.org/install/gpu for more details."
   ]
  },
  {
   "cell_type": "code",
   "execution_count": 7,
   "id": "3e22f73e",
   "metadata": {},
   "outputs": [],
   "source": [
    "import tensorflow as tf\n",
    "from tensorflow import keras"
   ]
  },
  {
   "cell_type": "code",
   "execution_count": 8,
   "id": "9d57d762",
   "metadata": {},
   "outputs": [
    {
     "name": "stdout",
     "output_type": "stream",
     "text": [
      "tensorflow version:  2.4.1\n",
      "keras version:  2.4.0\n"
     ]
    }
   ],
   "source": [
    "print(\"tensorflow version: \", tf.__version__)\n",
    "# Note that it ends with -tf, highlighting the fact that tf.keras implements the Keras API, plus some extra TensorFlow-specific features.\n",
    "print(\"keras version: \", keras.__version__)"
   ]
  },
  {
   "cell_type": "markdown",
   "id": "a131d37d",
   "metadata": {},
   "source": [
    "### Building an Image Classifier Using the Sequential API\n",
    "#### Using Keras to Load the Dataset\n",
    "+ the images represent fashion items rather than handwritten digits, so each class is more diverse and the problem turns out to be significantly more challenging than MNIST."
   ]
  },
  {
   "cell_type": "code",
   "execution_count": 9,
   "id": "a6b41409",
   "metadata": {},
   "outputs": [
    {
     "name": "stdout",
     "output_type": "stream",
     "text": [
      "(60000, 28, 28)\n",
      "uint8\n"
     ]
    }
   ],
   "source": [
    "fashion_mnist = keras.datasets.fashion_mnist\n",
    "(X_train_full, y_train_full), (X_test, y_test) = fashion_mnist.load_data()\n",
    "print(X_train_full.shape)\n",
    "print(X_train_full.dtype)"
   ]
  },
  {
   "cell_type": "markdown",
   "id": "b2d4b732",
   "metadata": {},
   "source": [
    "+ since we are going to train the neural network using Gradient Descent, we must scale the input features.\n",
    "+ For simplicity, we just scale the pixel intensities down to the 0-1 range by dividing them by 255.0(this also converts them to floats)"
   ]
  },
  {
   "cell_type": "code",
   "execution_count": 10,
   "id": "8b66bff4",
   "metadata": {},
   "outputs": [],
   "source": [
    "X_valid, X_train = X_train_full[:5000] / 255.0, X_train_full[5000:] / 255.0\n",
    "y_valid, y_train = y_train_full[:5000], y_train_full[5000:]"
   ]
  },
  {
   "cell_type": "code",
   "execution_count": 11,
   "id": "48c4b9c2",
   "metadata": {},
   "outputs": [],
   "source": [
    "class_names = [\"T-shirt/top\", \"Trouser\", \"Pullover\", \"Dress\", \"Coat\",\n",
    "                   \"Sandal\", \"Shirt\", \"Sneaker\", \"Bag\", \"Ankle boot\"]"
   ]
  },
  {
   "cell_type": "code",
   "execution_count": 12,
   "id": "1e0d90d7",
   "metadata": {},
   "outputs": [
    {
     "data": {
      "text/plain": [
       "'Coat'"
      ]
     },
     "execution_count": 12,
     "metadata": {},
     "output_type": "execute_result"
    }
   ],
   "source": [
    "class_names[y_train[0]]"
   ]
  },
  {
   "cell_type": "markdown",
   "id": "63890447",
   "metadata": {},
   "source": [
    "![fashion mnist example](https://www.researchgate.net/profile/Saeed-Reza-Kheradpisheh/publication/342801790/figure/fig2/AS:911232181735425@1594266090934/Sample-images-from-Fashion-MNIST-dataset.png)\n",
    "#### Creating the Model Using the Sequential API\n",
    "+ Line 1 (of the next cell): creates a Sequential model, a neural network that is just composed of a single stack of layers, connected sequentially. \n",
    "+ Line 2: builds the first layer and add it to the model. `Flatten` converts each input image into a 1D array.\n",
    "+ Line 3: adds a Dense hidden layer with 300 neurons, and uses the ReLU activation function. \n",
    "    - Each Dense layer manages its own weight matrix\n",
    "    - It also manages a vector of bias terms (one per neuron).\n",
    "    - For other activation functions, see https://keras.io/activations/\n",
    "+ Line 4: adds a second Dense hidden layer with 100 neurons, also uses the ReLU activation function.\n",
    "+ Line 5: adds a Dense output layer with 10 neurons (one per class), using the softmax activation function(this is a multiclass classification problem)."
   ]
  },
  {
   "cell_type": "code",
   "execution_count": 49,
   "id": "ffcd42a6",
   "metadata": {},
   "outputs": [],
   "source": [
    "model = keras.models.Sequential()\n",
    "model.add(keras.layers.Flatten(input_shape=[28, 28]))\n",
    "model.add(keras.layers.Dense(300, activation=\"relu\"))\n",
    "model.add(keras.layers.Dense(100, activation=\"relu\"))\n",
    "model.add(keras.layers.Dense(10, activation=\"softmax\"))"
   ]
  },
  {
   "cell_type": "markdown",
   "id": "b4e7148b",
   "metadata": {},
   "source": [
    "+ We can also combine the code above in one statement"
   ]
  },
  {
   "cell_type": "code",
   "execution_count": 62,
   "id": "d01bb7a3",
   "metadata": {},
   "outputs": [],
   "source": [
    "model = keras.models.Sequential([\n",
    "        keras.layers.Flatten(input_shape=[28, 28]),\n",
    "        keras.layers.Dense(300, activation=\"relu\"),\n",
    "        keras.layers.Dense(100, activation=\"relu\"),\n",
    "        keras.layers.Dense(10, activation=\"softmax\")\n",
    "])"
   ]
  },
  {
   "cell_type": "markdown",
   "id": "48feec5a",
   "metadata": {},
   "source": [
    "+ The model’s summary() method displays all the model’s layers"
   ]
  },
  {
   "cell_type": "code",
   "execution_count": 15,
   "id": "015c9061",
   "metadata": {},
   "outputs": [
    {
     "name": "stdout",
     "output_type": "stream",
     "text": [
      "Model: \"sequential_1\"\n",
      "_________________________________________________________________\n",
      "Layer (type)                 Output Shape              Param #   \n",
      "=================================================================\n",
      "flatten_1 (Flatten)          (None, 784)               0         \n",
      "_________________________________________________________________\n",
      "dense_3 (Dense)              (None, 300)               235500    \n",
      "_________________________________________________________________\n",
      "dense_4 (Dense)              (None, 100)               30100     \n",
      "_________________________________________________________________\n",
      "dense_5 (Dense)              (None, 10)                1010      \n",
      "=================================================================\n",
      "Total params: 266,610\n",
      "Trainable params: 266,610\n",
      "Non-trainable params: 0\n",
      "_________________________________________________________________\n"
     ]
    }
   ],
   "source": [
    "model.summary()"
   ]
  },
  {
   "cell_type": "markdown",
   "id": "5516b971",
   "metadata": {},
   "source": [
    "+ You can easily get a model’s list of layers, to fetch a layer by its index, or you can fetch it by name"
   ]
  },
  {
   "cell_type": "code",
   "execution_count": 16,
   "id": "8181b2b4",
   "metadata": {},
   "outputs": [
    {
     "data": {
      "text/plain": [
       "[<tensorflow.python.keras.layers.core.Flatten at 0x13e2e4d00>,\n",
       " <tensorflow.python.keras.layers.core.Dense at 0x13ed84220>,\n",
       " <tensorflow.python.keras.layers.core.Dense at 0x13dfb6cd0>,\n",
       " <tensorflow.python.keras.layers.core.Dense at 0x13dfb66d0>]"
      ]
     },
     "execution_count": 16,
     "metadata": {},
     "output_type": "execute_result"
    }
   ],
   "source": [
    "model.layers"
   ]
  },
  {
   "cell_type": "code",
   "execution_count": 17,
   "id": "c3858208",
   "metadata": {},
   "outputs": [
    {
     "data": {
      "text/plain": [
       "'dense_3'"
      ]
     },
     "execution_count": 17,
     "metadata": {},
     "output_type": "execute_result"
    }
   ],
   "source": [
    "model.layers[1].name"
   ]
  },
  {
   "cell_type": "code",
   "execution_count": 18,
   "id": "703202ec",
   "metadata": {},
   "outputs": [
    {
     "data": {
      "text/plain": [
       "'dense_3'"
      ]
     },
     "execution_count": 18,
     "metadata": {},
     "output_type": "execute_result"
    }
   ],
   "source": [
    "model.get_layer('dense_3').name"
   ]
  },
  {
   "cell_type": "markdown",
   "id": "de90d4a5",
   "metadata": {},
   "source": [
    "+ All the parameters of a layer can be accessed using its get_weights() and set_weights() method. For a Dense layer, this includes both the connection weights and the bias terms:"
   ]
  },
  {
   "cell_type": "code",
   "execution_count": 23,
   "id": "4e4e4742",
   "metadata": {},
   "outputs": [],
   "source": [
    "hidden1 = model.layers[1]\n",
    "weights, biases = hidden1.get_weights()"
   ]
  },
  {
   "cell_type": "code",
   "execution_count": 24,
   "id": "0e9bcca2",
   "metadata": {},
   "outputs": [
    {
     "data": {
      "text/plain": [
       "array([[-0.06429768, -0.06606724,  0.02467071, ..., -0.05313261,\n",
       "        -0.04990781,  0.01793566],\n",
       "       [-0.02394059, -0.02384443, -0.02873898, ...,  0.00780939,\n",
       "        -0.01034213,  0.05872054],\n",
       "       [-0.05016194, -0.06758564, -0.01342009, ...,  0.04782038,\n",
       "         0.04958003,  0.03458665],\n",
       "       ...,\n",
       "       [ 0.03488541,  0.01060686,  0.03757443, ..., -0.02286218,\n",
       "         0.05683467,  0.0406133 ],\n",
       "       [ 0.02074627,  0.04259919,  0.00565634, ..., -0.00015141,\n",
       "        -0.05520375,  0.01094227],\n",
       "       [ 0.03369625,  0.03859156,  0.05131359, ..., -0.02671528,\n",
       "         0.00513736, -0.05501113]], dtype=float32)"
      ]
     },
     "execution_count": 24,
     "metadata": {},
     "output_type": "execute_result"
    }
   ],
   "source": [
    "weights"
   ]
  },
  {
   "cell_type": "code",
   "execution_count": 25,
   "id": "057725ae",
   "metadata": {},
   "outputs": [
    {
     "data": {
      "text/plain": [
       "(784, 300)"
      ]
     },
     "execution_count": 25,
     "metadata": {},
     "output_type": "execute_result"
    }
   ],
   "source": [
    "weights.shape"
   ]
  },
  {
   "cell_type": "code",
   "execution_count": 26,
   "id": "b3cf74d3",
   "metadata": {},
   "outputs": [
    {
     "data": {
      "text/plain": [
       "array([0., 0., 0., 0., 0., 0., 0., 0., 0., 0., 0., 0., 0., 0., 0., 0., 0.,\n",
       "       0., 0., 0., 0., 0., 0., 0., 0., 0., 0., 0., 0., 0., 0., 0., 0., 0.,\n",
       "       0., 0., 0., 0., 0., 0., 0., 0., 0., 0., 0., 0., 0., 0., 0., 0., 0.,\n",
       "       0., 0., 0., 0., 0., 0., 0., 0., 0., 0., 0., 0., 0., 0., 0., 0., 0.,\n",
       "       0., 0., 0., 0., 0., 0., 0., 0., 0., 0., 0., 0., 0., 0., 0., 0., 0.,\n",
       "       0., 0., 0., 0., 0., 0., 0., 0., 0., 0., 0., 0., 0., 0., 0., 0., 0.,\n",
       "       0., 0., 0., 0., 0., 0., 0., 0., 0., 0., 0., 0., 0., 0., 0., 0., 0.,\n",
       "       0., 0., 0., 0., 0., 0., 0., 0., 0., 0., 0., 0., 0., 0., 0., 0., 0.,\n",
       "       0., 0., 0., 0., 0., 0., 0., 0., 0., 0., 0., 0., 0., 0., 0., 0., 0.,\n",
       "       0., 0., 0., 0., 0., 0., 0., 0., 0., 0., 0., 0., 0., 0., 0., 0., 0.,\n",
       "       0., 0., 0., 0., 0., 0., 0., 0., 0., 0., 0., 0., 0., 0., 0., 0., 0.,\n",
       "       0., 0., 0., 0., 0., 0., 0., 0., 0., 0., 0., 0., 0., 0., 0., 0., 0.,\n",
       "       0., 0., 0., 0., 0., 0., 0., 0., 0., 0., 0., 0., 0., 0., 0., 0., 0.,\n",
       "       0., 0., 0., 0., 0., 0., 0., 0., 0., 0., 0., 0., 0., 0., 0., 0., 0.,\n",
       "       0., 0., 0., 0., 0., 0., 0., 0., 0., 0., 0., 0., 0., 0., 0., 0., 0.,\n",
       "       0., 0., 0., 0., 0., 0., 0., 0., 0., 0., 0., 0., 0., 0., 0., 0., 0.,\n",
       "       0., 0., 0., 0., 0., 0., 0., 0., 0., 0., 0., 0., 0., 0., 0., 0., 0.,\n",
       "       0., 0., 0., 0., 0., 0., 0., 0., 0., 0., 0.], dtype=float32)"
      ]
     },
     "execution_count": 26,
     "metadata": {},
     "output_type": "execute_result"
    }
   ],
   "source": [
    "biases"
   ]
  },
  {
   "cell_type": "code",
   "execution_count": 27,
   "id": "65d9a818",
   "metadata": {},
   "outputs": [
    {
     "data": {
      "text/plain": [
       "(300,)"
      ]
     },
     "execution_count": 27,
     "metadata": {},
     "output_type": "execute_result"
    }
   ],
   "source": [
    "biases.shape"
   ]
  },
  {
   "cell_type": "markdown",
   "id": "d6f91c3a",
   "metadata": {},
   "source": [
    "+ Notice that the Dense layer initialized the connection weights randomly (which is needed to break symmetry, as we discussed earlier), and the biases were just initial‐ ized to zeros, which is fine. If you ever want to use a different initialization method, you can set kernel_initializer (kernel is another name for the matrix of connec‐ tion weights) or bias_initializer when creating the layer. We will discuss initializ‐ ers further in Chapter 11, but if you want the full list, see https://keras.io/initializers/."
   ]
  },
  {
   "cell_type": "markdown",
   "id": "4966c5f9",
   "metadata": {},
   "source": [
    "#### Compiling the Model\n",
    "+ After a model is created, you must call its compile() method to specify the loss func‐ tion and the optimizer to use. Optionally, you can also specify a list of extra metrics to compute during training and evaluation:\n",
    "+ For other losses, see https://keras.io/losses/\n",
    "    - If the labels are `sparse`: `[0,1,2,3,4,5,6,7,8,9]`, we use sparse_categorical_crossentropy.\n",
    "    - If the labels are `one-hot-encoded`, we use `categorical_crossentropy`.\n",
    "    - If we do `binary classification` (with one or more binary labels), then we would use the \"sigmoid\" (i.e., logistic) activation function in the output layer instead of the \"softmax\" activation function, we use `binary_crossentropy`.\n",
    "+ For other optimizers, see https://keras.io/optimizers/ \n",
    "+ For other metrics, see https://keras.io/metrics/."
   ]
  },
  {
   "cell_type": "code",
   "execution_count": 63,
   "id": "07ec2b1a",
   "metadata": {},
   "outputs": [],
   "source": [
    "model.compile(loss=\"sparse_categorical_crossentropy\",\n",
    "                  optimizer=\"sgd\",\n",
    "                  metrics=[\"accuracy\"])"
   ]
  },
  {
   "cell_type": "markdown",
   "id": "ae99d7a3",
   "metadata": {},
   "source": [
    "#### Training and Evaluating the Model\n",
    "+ train the model on the training set\n",
    "+ also use the validation set to detect the potential overfitting(the performance on the training set is much better than on the validation set) or some bug(e.g.,a data mis‐ match between the training set and the validation set)\n",
    "+ At each epoch during training, Keras displays the number of instances processed so far (along with a progress bar), the mean training time per sample, the loss and accuracy (or any other extra metrics you asked for), both on the training set and the validation set."
   ]
  },
  {
   "cell_type": "code",
   "execution_count": 65,
   "id": "27491079",
   "metadata": {},
   "outputs": [
    {
     "name": "stdout",
     "output_type": "stream",
     "text": [
      "Epoch 1/30\n",
      "1719/1719 [==============================] - 6s 3ms/step - loss: 0.9840 - accuracy: 0.7014 - val_loss: 0.5204 - val_accuracy: 0.8170\n",
      "Epoch 2/30\n",
      "1719/1719 [==============================] - 6s 3ms/step - loss: 0.4990 - accuracy: 0.8264 - val_loss: 0.4380 - val_accuracy: 0.8478\n",
      "Epoch 3/30\n",
      "1719/1719 [==============================] - 6s 3ms/step - loss: 0.4501 - accuracy: 0.8439 - val_loss: 0.4181 - val_accuracy: 0.8586\n",
      "Epoch 4/30\n",
      "1719/1719 [==============================] - 5s 3ms/step - loss: 0.4247 - accuracy: 0.8516 - val_loss: 0.3852 - val_accuracy: 0.8706\n",
      "Epoch 5/30\n",
      "1719/1719 [==============================] - 5s 3ms/step - loss: 0.3981 - accuracy: 0.8598 - val_loss: 0.3834 - val_accuracy: 0.8716\n",
      "Epoch 6/30\n",
      "1719/1719 [==============================] - 5s 3ms/step - loss: 0.3788 - accuracy: 0.8647 - val_loss: 0.3637 - val_accuracy: 0.8762\n",
      "Epoch 7/30\n",
      "1719/1719 [==============================] - 5s 3ms/step - loss: 0.3605 - accuracy: 0.8733 - val_loss: 0.3648 - val_accuracy: 0.8724\n",
      "Epoch 8/30\n",
      "1719/1719 [==============================] - 5s 3ms/step - loss: 0.3574 - accuracy: 0.8732 - val_loss: 0.3585 - val_accuracy: 0.8764\n",
      "Epoch 9/30\n",
      "1719/1719 [==============================] - 5s 3ms/step - loss: 0.3409 - accuracy: 0.8791 - val_loss: 0.3456 - val_accuracy: 0.8802\n",
      "Epoch 10/30\n",
      "1719/1719 [==============================] - 5s 3ms/step - loss: 0.3347 - accuracy: 0.8806 - val_loss: 0.3517 - val_accuracy: 0.8814\n",
      "Epoch 11/30\n",
      "1719/1719 [==============================] - 5s 3ms/step - loss: 0.3265 - accuracy: 0.8837 - val_loss: 0.3371 - val_accuracy: 0.8856\n",
      "Epoch 12/30\n",
      "1719/1719 [==============================] - 5s 3ms/step - loss: 0.3115 - accuracy: 0.8875 - val_loss: 0.3285 - val_accuracy: 0.8882\n",
      "Epoch 13/30\n",
      "1719/1719 [==============================] - 5s 3ms/step - loss: 0.3110 - accuracy: 0.8878 - val_loss: 0.3190 - val_accuracy: 0.8864\n",
      "Epoch 14/30\n",
      "1719/1719 [==============================] - 5s 3ms/step - loss: 0.3012 - accuracy: 0.8903 - val_loss: 0.3267 - val_accuracy: 0.8866\n",
      "Epoch 15/30\n",
      "1719/1719 [==============================] - 5s 3ms/step - loss: 0.2955 - accuracy: 0.8936 - val_loss: 0.3180 - val_accuracy: 0.8874\n",
      "Epoch 16/30\n",
      "1719/1719 [==============================] - 5s 3ms/step - loss: 0.2908 - accuracy: 0.8939 - val_loss: 0.3201 - val_accuracy: 0.8866\n",
      "Epoch 17/30\n",
      "1719/1719 [==============================] - 5s 3ms/step - loss: 0.2825 - accuracy: 0.8975 - val_loss: 0.3142 - val_accuracy: 0.8904\n",
      "Epoch 18/30\n",
      "1719/1719 [==============================] - 5s 3ms/step - loss: 0.2773 - accuracy: 0.9009 - val_loss: 0.3057 - val_accuracy: 0.8894\n",
      "Epoch 19/30\n",
      "1719/1719 [==============================] - 5s 3ms/step - loss: 0.2697 - accuracy: 0.9008 - val_loss: 0.3122 - val_accuracy: 0.8872\n",
      "Epoch 20/30\n",
      "1719/1719 [==============================] - 5s 3ms/step - loss: 0.2710 - accuracy: 0.9033 - val_loss: 0.3196 - val_accuracy: 0.8864\n",
      "Epoch 21/30\n",
      "1719/1719 [==============================] - 5s 3ms/step - loss: 0.2635 - accuracy: 0.9039 - val_loss: 0.3096 - val_accuracy: 0.8880\n",
      "Epoch 22/30\n",
      "1719/1719 [==============================] - 5s 3ms/step - loss: 0.2538 - accuracy: 0.9092 - val_loss: 0.3035 - val_accuracy: 0.8886\n",
      "Epoch 23/30\n",
      "1719/1719 [==============================] - 5s 3ms/step - loss: 0.2546 - accuracy: 0.9081 - val_loss: 0.2978 - val_accuracy: 0.8928\n",
      "Epoch 24/30\n",
      "1719/1719 [==============================] - 5s 3ms/step - loss: 0.2507 - accuracy: 0.9098 - val_loss: 0.3083 - val_accuracy: 0.8882\n",
      "Epoch 25/30\n",
      "1719/1719 [==============================] - 5s 3ms/step - loss: 0.2409 - accuracy: 0.9136 - val_loss: 0.3139 - val_accuracy: 0.8854\n",
      "Epoch 26/30\n",
      "1719/1719 [==============================] - 5s 3ms/step - loss: 0.2395 - accuracy: 0.9131 - val_loss: 0.2940 - val_accuracy: 0.8936\n",
      "Epoch 27/30\n",
      "1719/1719 [==============================] - 5s 3ms/step - loss: 0.2340 - accuracy: 0.9168 - val_loss: 0.2953 - val_accuracy: 0.8928\n",
      "Epoch 28/30\n",
      "1719/1719 [==============================] - 5s 3ms/step - loss: 0.2272 - accuracy: 0.9191 - val_loss: 0.2877 - val_accuracy: 0.8944\n",
      "Epoch 29/30\n",
      "1719/1719 [==============================] - 5s 3ms/step - loss: 0.2197 - accuracy: 0.9217 - val_loss: 0.2922 - val_accuracy: 0.8918\n",
      "Epoch 30/30\n",
      "1719/1719 [==============================] - 5s 3ms/step - loss: 0.2228 - accuracy: 0.9213 - val_loss: 0.3080 - val_accuracy: 0.8888\n"
     ]
    }
   ],
   "source": [
    "# the defaut batch_size is 32: batch_size=32\n",
    "history = model.fit(X_train, y_train, epochs=30,\n",
    "                    validation_data=(X_valid, y_valid))"
   ]
  },
  {
   "cell_type": "markdown",
   "id": "e7c8f215",
   "metadata": {},
   "source": [
    "+ If the training set was very skewed, with some classes being overrepresented and oth‐ ers underrepresented, it would be useful to set the class_weight argument when calling the fit() method, giving a larger weight to underrepresented classes, and a lower weight to overrepresented classes. These weights would be used by Keras when computing the loss.\n",
    "+ If you need per-instance weights instead, you can set the sam ple_weight argument (it supersedes class_weight). This could be useful for exam‐ ple if some instances were labeled by experts while others were labeled using a crowdsourcing platform: you might want to give more weight to the former.\n",
    "+ You can also provide sample weights (but not class weights) for the validation set by adding them as a third item in the validation_data tuple.\n",
    "\n",
    "+ The fit() method returns a History object containing \n",
    "    - the training parameters (his tory.params)\n",
    "    - the list of epochs it went through (history.epoch)\n",
    "    - and most impor‐ tantly a dictionary (history.history) containing the loss and extra metrics it measured at the end of each epoch on the training set and on the validation set.\n",
    " "
   ]
  },
  {
   "cell_type": "code",
   "execution_count": 66,
   "id": "6aef66af",
   "metadata": {},
   "outputs": [
    {
     "data": {
      "image/png": "[encoded data removed]",
      "text/plain": [
       "<Figure size 576x360 with 1 Axes>"
      ]
     },
     "metadata": {
      "needs_background": "light"
     },
     "output_type": "display_data"
    }
   ],
   "source": [
    "import matplotlib.pyplot as plt\n",
    "import pandas as pd\n",
    "pd.DataFrame(history.history).plot(figsize=(8, 5))\n",
    "plt.grid(True)\n",
    "plt.gca().set_ylim(0, 1) # set the vertical range to [0-1]\n",
    "plt.show()"
   ]
  },
  {
   "cell_type": "markdown",
   "id": "c19a93a7",
   "metadata": {},
   "source": [
    "+ If you are not satisfied with the performance of your model, you should go back and tune the model’s hyperparameters\n",
    "    - the number of layers\n",
    "    - the number of neurons per layer\n",
    "    - the types of activation functions we use for each hidden layer\n",
    "    - the number of training epochs\n",
    "    - the batch size\n",
    "    \n",
    "+ Once you are satisfied with your model’s validation accuracy, you should evaluate it on the test set to estimate the generalization error before you deploy the model to production. "
   ]
  },
  {
   "cell_type": "code",
   "execution_count": 67,
   "id": "d624c09a",
   "metadata": {},
   "outputs": [
    {
     "name": "stdout",
     "output_type": "stream",
     "text": [
      "313/313 [==============================] - 1s 3ms/step - loss: 76.0464 - accuracy: 0.8307\n"
     ]
    },
    {
     "data": {
      "text/plain": [
       "[76.0464096069336, 0.8306999802589417]"
      ]
     },
     "execution_count": 67,
     "metadata": {},
     "output_type": "execute_result"
    }
   ],
   "source": [
    "model.evaluate(X_test, y_test)"
   ]
  },
  {
   "cell_type": "markdown",
   "id": "bcaa2dac",
   "metadata": {},
   "source": [
    "#### Using the Model to Make Predictions"
   ]
  },
  {
   "cell_type": "code",
   "execution_count": 68,
   "id": "69fa96a8",
   "metadata": {},
   "outputs": [
    {
     "name": "stdout",
     "output_type": "stream",
     "text": [
      "[[0. 0. 0. 0. 0. 0. 0. 0. 0. 1.]\n",
      " [0. 0. 1. 0. 0. 0. 0. 0. 0. 0.]\n",
      " [0. 1. 0. 0. 0. 0. 0. 0. 0. 0.]\n",
      " [0. 1. 0. 0. 0. 0. 0. 0. 0. 0.]\n",
      " [1. 0. 0. 0. 0. 0. 0. 0. 0. 0.]]\n"
     ]
    }
   ],
   "source": [
    "X_new = X_test[:5]\n",
    "y_proba = model.predict(X_new)\n",
    "print(y_proba.round(2))"
   ]
  },
  {
   "cell_type": "code",
   "execution_count": 69,
   "id": "3221bfe8",
   "metadata": {},
   "outputs": [
    {
     "name": "stdout",
     "output_type": "stream",
     "text": [
      "[9 2 1 1 0]\n"
     ]
    }
   ],
   "source": [
    "y_hat = np.argmax(y_proba, axis=-1)\n",
    "print(y_hat)"
   ]
  },
  {
   "cell_type": "code",
   "execution_count": 71,
   "id": "f20bd2fd",
   "metadata": {},
   "outputs": [
    {
     "name": "stdout",
     "output_type": "stream",
     "text": [
      "[[0.   0.   0.3  0.   0.67 0.   0.03 0.   0.   0.  ]\n",
      " [0.94 0.   0.   0.   0.   0.   0.06 0.   0.   0.  ]\n",
      " [0.   0.   0.   0.   0.   0.   0.   0.85 0.   0.15]]\n"
     ]
    }
   ],
   "source": [
    "X_new = X_train[:3]\n",
    "y_proba = model.predict(X_new)\n",
    "print(y_proba.round(2))"
   ]
  },
  {
   "cell_type": "code",
   "execution_count": 72,
   "id": "199be8eb",
   "metadata": {},
   "outputs": [
    {
     "name": "stdout",
     "output_type": "stream",
     "text": [
      "[4 0 7]\n"
     ]
    }
   ],
   "source": [
    "y_hat = np.argmax(y_proba, axis=-1)\n",
    "print(y_hat)"
   ]
  },
  {
   "cell_type": "markdown",
   "id": "3643a41e",
   "metadata": {},
   "source": [
    "### Building a Regression MLP Using the Sequential API\n",
    "+ Building, training, evaluating and using a regression MLP using the Sequential API to make predictions is quite similar to what we did for classification.\n",
    "+ The main differ‐ ences are the fact that the output layer has a single neuron (since we only want to predict a single value) and uses no activation function.\n",
    "+ and the loss function is the mean squared error. "
   ]
  },
  {
   "cell_type": "code",
   "execution_count": 1,
   "id": "df27cc89",
   "metadata": {},
   "outputs": [],
   "source": [
    "from sklearn.datasets import fetch_california_housing\n",
    "from sklearn.model_selection import train_test_split\n",
    "from sklearn.preprocessing import StandardScaler"
   ]
  },
  {
   "cell_type": "code",
   "execution_count": 5,
   "id": "a74f7916",
   "metadata": {},
   "outputs": [],
   "source": [
    "# '.' => save the data in the current folder, you can also specify your own location\n",
    "housing = fetch_california_housing(data_home='.')\n",
    "X_train_full, X_test, y_train_full, y_test = train_test_split(\n",
    "        housing.data, housing.target)\n",
    "X_train, X_valid, y_train, y_valid = train_test_split(\n",
    "        X_train_full, y_train_full)\n",
    "\n",
    "scaler = StandardScaler()\n",
    "X_train_scaled = scaler.fit_transform(X_train)\n",
    "X_valid_scaled = scaler.transform(X_valid)\n",
    "X_test_scaled = scaler.transform(X_test)"
   ]
  },
  {
   "cell_type": "markdown",
   "id": "1a263b63",
   "metadata": {},
   "source": [
    "+ Since the dataset is quite noisy, we just use a single hidden layer with fewer neurons than before, to avoid overfitting:"
   ]
  },
  {
   "cell_type": "code",
   "execution_count": 31,
   "id": "591c61d5",
   "metadata": {},
   "outputs": [
    {
     "name": "stdout",
     "output_type": "stream",
     "text": [
      "Epoch 1/20\n",
      "363/363 [==============================] - 1s 2ms/step - loss: 1.4172 - val_loss: 0.5982\n",
      "Epoch 2/20\n",
      "363/363 [==============================] - 1s 2ms/step - loss: 0.6075 - val_loss: 0.4742\n",
      "Epoch 3/20\n",
      "363/363 [==============================] - 1s 2ms/step - loss: 0.4861 - val_loss: 0.4954\n",
      "Epoch 4/20\n",
      "363/363 [==============================] - 1s 2ms/step - loss: 0.5161 - val_loss: 0.4435\n",
      "Epoch 5/20\n",
      "363/363 [==============================] - 1s 2ms/step - loss: 0.4735 - val_loss: 0.4345\n",
      "Epoch 6/20\n",
      "363/363 [==============================] - 1s 2ms/step - loss: 0.4492 - val_loss: 0.4222\n",
      "Epoch 7/20\n",
      "363/363 [==============================] - 1s 2ms/step - loss: 0.4434 - val_loss: 0.4161\n",
      "Epoch 8/20\n",
      "363/363 [==============================] - 1s 2ms/step - loss: 0.4623 - val_loss: 0.4203\n",
      "Epoch 9/20\n",
      "363/363 [==============================] - 1s 2ms/step - loss: 0.4308 - val_loss: 0.4102\n",
      "Epoch 10/20\n",
      "363/363 [==============================] - 1s 2ms/step - loss: 0.4099 - val_loss: 0.4110\n",
      "Epoch 11/20\n",
      "363/363 [==============================] - 1s 2ms/step - loss: 0.4100 - val_loss: 0.4042\n",
      "Epoch 12/20\n",
      "363/363 [==============================] - 1s 2ms/step - loss: 0.4203 - val_loss: 0.4006\n",
      "Epoch 13/20\n",
      "363/363 [==============================] - 1s 2ms/step - loss: 0.4151 - val_loss: 0.3978\n",
      "Epoch 14/20\n",
      "363/363 [==============================] - 1s 2ms/step - loss: 0.4120 - val_loss: 0.3956\n",
      "Epoch 15/20\n",
      "363/363 [==============================] - 1s 2ms/step - loss: 0.4047 - val_loss: 0.4192\n",
      "Epoch 16/20\n",
      "363/363 [==============================] - 1s 2ms/step - loss: 0.5273 - val_loss: 0.3937\n",
      "Epoch 17/20\n",
      "363/363 [==============================] - 1s 2ms/step - loss: 0.3993 - val_loss: 0.3889\n",
      "Epoch 18/20\n",
      "363/363 [==============================] - 1s 2ms/step - loss: 0.4064 - val_loss: 0.3837\n",
      "Epoch 19/20\n",
      "363/363 [==============================] - 1s 2ms/step - loss: 0.3990 - val_loss: 0.3818\n",
      "Epoch 20/20\n",
      "363/363 [==============================] - 1s 2ms/step - loss: 0.3995 - val_loss: 0.3893\n"
     ]
    }
   ],
   "source": [
    "model = keras.models.Sequential([\n",
    "        keras.layers.Dense(30, activation=\"relu\", input_shape=X_train.shape[1:]),\n",
    "        keras.layers.Dense(1)\n",
    "    ])\n",
    "\n",
    "model.compile(loss=\"mean_squared_error\", optimizer=\"sgd\")\n",
    "history = model.fit(X_train_scaled, y_train, epochs=20,\n",
    "                        validation_data=(X_valid_scaled, y_valid))"
   ]
  },
  {
   "cell_type": "code",
   "execution_count": 24,
   "id": "cd32ac5e",
   "metadata": {},
   "outputs": [
    {
     "name": "stdout",
     "output_type": "stream",
     "text": [
      "162/162 [==============================] - 0s 1ms/step - loss: 0.3854\n"
     ]
    }
   ],
   "source": [
    "mse_test = model.evaluate(X_test_scaled, y_test)"
   ]
  },
  {
   "cell_type": "code",
   "execution_count": 33,
   "id": "a17e0b5e",
   "metadata": {},
   "outputs": [
    {
     "name": "stdout",
     "output_type": "stream",
     "text": [
      "[[1.404094 ]\n",
      " [2.5365233]\n",
      " [3.8159509]]\n"
     ]
    }
   ],
   "source": [
    "X_new = X_test[:3] # pretend these are new instances\n",
    "\n",
    "y_pred = model.predict(scaler.transform(X_new))\n",
    "print(y_pred)"
   ]
  },
  {
   "cell_type": "markdown",
   "id": "e2dd1be4",
   "metadata": {},
   "source": [
    "# Building Complex/non-sequential Models Using the Functional API\n",
    "+ [Reference Paper](https://arxiv.org/abs/1606.07792)\n",
    "+ It connects all or part of the inputs directly to the output layer\n",
    "    - This architecture makes it possible for the neural network to learn both deep patterns (using the deep path) and simple rules (through the short path).\n",
    "    - A regular MLP forces all the data to flow through the full stack of layers, thus simple patterns in the data may end up being distorted by this sequence of transfor‐ mations.\n",
    "    \n",
    "![ch10-wide.png](../Resources/ch10-wide.png)\n",
    "\n"
   ]
  },
  {
   "cell_type": "code",
   "execution_count": 43,
   "id": "3ec9d2af",
   "metadata": {},
   "outputs": [],
   "source": [
    "# First, we need to create an Input object.\n",
    "input = keras.layers.Input(shape=X_train.shape[1:])\n",
    "# Next, we create a Dense layer with 30 neurons and using the ReLU activation function. As soon as it is created, notice that we call it like a function, passing it the input. This is why this is called the Functional API.\n",
    "hidden1 = keras.layers.Dense(30, activation=\"relu\")(input)\n",
    "# We then create a second hidden layer, and again we use it as a function.\n",
    "hidden2 = keras.layers.Dense(30, activation=\"relu\")(hidden1)\n",
    "# Next, we create a Concatenate() layer, and once again we immediately use it like a function, to concatenate the input and the output of the second hidden layer\n",
    "concat = keras.layers.Concatenate()([input, hidden2])\n",
    "# Then we create the output layer, with a single neuron and no activation function.\n",
    "output = keras.layers.Dense(1)(concat)\n",
    "# Lastly, we create a Keras Model, specifying which inputs and outputs to use.\n",
    "model = keras.models.Model(inputs=[input], outputs=[output])"
   ]
  },
  {
   "cell_type": "markdown",
   "id": "b1f0cc5b",
   "metadata": {},
   "source": [
    "+ First, we need to create an Input object.\n",
    "+ Next, we create a Dense layer with 30 neurons and using the ReLU activation function. As soon as it is created, notice that we call it like a function, passing it the input. This is why this is called the Functional API.\n",
    "+ We then create a second hidden layer, and again we use it as a function.\n",
    "+ Next, we create a Concatenate() layer, and once again we immediately use it like a function, to concatenate the input and the output of the second hidden layer\n",
    "+ Then we create the output layer, with a single neuron and no activation function.\n",
    "+ Lastly, we create a Keras Model, specifying which inputs and outputs to use.\n",
    "#### Once you have built the Keras model, everything is exactly like earlier, so no need to repeat it here: you must compile the model, train it, evaluate it and use it to make predictions"
   ]
  },
  {
   "cell_type": "code",
   "execution_count": 44,
   "id": "b67b7fe7",
   "metadata": {},
   "outputs": [
    {
     "name": "stdout",
     "output_type": "stream",
     "text": [
      "Epoch 1/4\n",
      "363/363 [==============================] - 1s 3ms/step - loss: 1.3031 - val_loss: 4.6872\n",
      "Epoch 2/4\n",
      "363/363 [==============================] - 1s 2ms/step - loss: 1.5921 - val_loss: 4.4882\n",
      "Epoch 3/4\n",
      "363/363 [==============================] - 1s 2ms/step - loss: 1.2776 - val_loss: 1.4511\n",
      "Epoch 4/4\n",
      "363/363 [==============================] - 1s 2ms/step - loss: 1.5942 - val_loss: 0.5185\n"
     ]
    }
   ],
   "source": [
    "model.compile(loss=\"mean_squared_error\", optimizer=\"sgd\")\n",
    "history = model.fit(X_train_scaled, y_train, epochs=4,\n",
    "                        validation_data=(X_valid_scaled, y_valid))"
   ]
  },
  {
   "cell_type": "code",
   "execution_count": 45,
   "id": "c7608b4c",
   "metadata": {},
   "outputs": [
    {
     "name": "stdout",
     "output_type": "stream",
     "text": [
      "162/162 [==============================] - 0s 1ms/step - loss: 0.4857\n"
     ]
    }
   ],
   "source": [
    "mse_test = model.evaluate(X_test_scaled, y_test)"
   ]
  },
  {
   "cell_type": "code",
   "execution_count": 47,
   "id": "f4b390da",
   "metadata": {},
   "outputs": [
    {
     "name": "stdout",
     "output_type": "stream",
     "text": [
      "[[1.5826242]\n",
      " [2.16786  ]\n",
      " [3.5506988]]\n"
     ]
    }
   ],
   "source": [
    "X_new = X_test[:3] # pretend these are new instances\n",
    "\n",
    "y_pred = model.predict(scaler.transform(X_new))\n",
    "print(y_pred)"
   ]
  },
  {
   "cell_type": "markdown",
   "id": "7604fc8d",
   "metadata": {},
   "source": [
    "+ What if you want to send a subset of the features through the wide path, and a different subset (possibly overlapping) through the deep path?\n",
    "\n",
    "![wide2](../Resources/ch10-wide2.png)\n"
   ]
  },
  {
   "cell_type": "code",
   "execution_count": 53,
   "id": "3cd6f172",
   "metadata": {},
   "outputs": [],
   "source": [
    "input_A = keras.layers.Input(shape=[5]) # features 0-4\n",
    "input_B = keras.layers.Input(shape=[6]) # features 2-7\n",
    "hidden1 = keras.layers.Dense(30, activation=\"relu\")(input_B)\n",
    "hidden2 = keras.layers.Dense(30, activation=\"relu\")(hidden1)\n",
    "concat = keras.layers.concatenate([input_A, hidden2])\n",
    "output = keras.layers.Dense(1)(concat)\n",
    "model = keras.models.Model(inputs=[input_A, input_B], outputs=[output])"
   ]
  },
  {
   "cell_type": "code",
   "execution_count": 54,
   "id": "5eeda21e",
   "metadata": {},
   "outputs": [],
   "source": [
    "model.compile(loss=\"mse\", optimizer=\"sgd\")"
   ]
  },
  {
   "cell_type": "code",
   "execution_count": 52,
   "id": "10781c09",
   "metadata": {},
   "outputs": [],
   "source": [
    "X_train_A, X_train_B = X_train_scaled[:, :5], X_train_scaled[:, 2:]\n",
    "X_valid_A, X_valid_B = X_valid_scaled[:, :5], X_valid_scaled[:, 2:]\n",
    "X_test_A, X_test_B = X_test_scaled[:, :5], X_test_scaled[:, 2:]\n",
    "X_new_A, X_new_B = X_test_A[:3], X_test_B[:3]"
   ]
  },
  {
   "cell_type": "code",
   "execution_count": 51,
   "id": "449e876c",
   "metadata": {},
   "outputs": [
    {
     "name": "stdout",
     "output_type": "stream",
     "text": [
      "Epoch 1/20\n",
      "363/363 [==============================] - 1s 2ms/step - loss: nan - val_loss: nan\n",
      "Epoch 2/20\n",
      "363/363 [==============================] - 1s 2ms/step - loss: nan - val_loss: nan\n",
      "Epoch 3/20\n",
      "363/363 [==============================] - 1s 2ms/step - loss: nan - val_loss: nan\n",
      "Epoch 4/20\n",
      "363/363 [==============================] - 1s 2ms/step - loss: nan - val_loss: nan\n",
      "Epoch 5/20\n",
      "363/363 [==============================] - 1s 2ms/step - loss: nan - val_loss: nan\n",
      "Epoch 6/20\n",
      "363/363 [==============================] - 1s 2ms/step - loss: nan - val_loss: nan\n",
      "Epoch 7/20\n",
      "363/363 [==============================] - 1s 2ms/step - loss: nan - val_loss: nan\n",
      "Epoch 8/20\n",
      "363/363 [==============================] - 1s 2ms/step - loss: nan - val_loss: nan\n",
      "Epoch 9/20\n",
      "363/363 [==============================] - 1s 2ms/step - loss: nan - val_loss: nan\n",
      "Epoch 10/20\n",
      "363/363 [==============================] - 1s 2ms/step - loss: nan - val_loss: nan\n",
      "Epoch 11/20\n",
      "363/363 [==============================] - 1s 2ms/step - loss: nan - val_loss: nan\n",
      "Epoch 12/20\n",
      "363/363 [==============================] - 1s 2ms/step - loss: nan - val_loss: nan\n",
      "Epoch 13/20\n",
      "363/363 [==============================] - 1s 2ms/step - loss: nan - val_loss: nan\n",
      "Epoch 14/20\n",
      "363/363 [==============================] - 1s 2ms/step - loss: nan - val_loss: nan\n",
      "Epoch 15/20\n",
      "363/363 [==============================] - 1s 2ms/step - loss: nan - val_loss: nan\n",
      "Epoch 16/20\n",
      "363/363 [==============================] - 1s 2ms/step - loss: nan - val_loss: nan\n",
      "Epoch 17/20\n",
      "363/363 [==============================] - 1s 2ms/step - loss: nan - val_loss: nan\n",
      "Epoch 18/20\n",
      "363/363 [==============================] - 1s 2ms/step - loss: nan - val_loss: nan\n",
      "Epoch 19/20\n",
      "363/363 [==============================] - 1s 2ms/step - loss: nan - val_loss: nan\n",
      "Epoch 20/20\n",
      "363/363 [==============================] - 1s 2ms/step - loss: nan - val_loss: nan\n"
     ]
    }
   ],
   "source": [
    "history = model.fit((X_train_A, X_train_B), y_train, epochs=20,\n",
    "                        validation_data=((X_valid_A, X_valid_B), y_valid))"
   ]
  },
  {
   "cell_type": "code",
   "execution_count": null,
   "id": "02a57d78",
   "metadata": {},
   "outputs": [],
   "source": []
  }
 ],
 "metadata": {
  "kernelspec": {
   "display_name": "Kernel3.9",
   "language": "python",
   "name": "kernel3.9"
  },
  "language_info": {
   "codemirror_mode": {
    "name": "ipython",
    "version": 3
   },
   "file_extension": ".py",
   "mimetype": "text/x-python",
   "name": "python",
   "nbconvert_exporter": "python",
   "pygments_lexer": "ipython3",
   "version": "3.8.1"
  }
 },
 "nbformat": 4,
 "nbformat_minor": 5
}
